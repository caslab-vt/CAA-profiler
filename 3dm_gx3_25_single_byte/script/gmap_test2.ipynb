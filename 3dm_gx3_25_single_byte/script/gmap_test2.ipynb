{
 "cells": [
  {
   "cell_type": "code",
   "execution_count": 1,
   "metadata": {},
   "outputs": [],
   "source": [
    "from array import array\n",
    "import numpy as np\n",
    "from numpy import nan\n",
    "from numpy import meshgrid\n",
    "import matplotlib\n",
    "from matplotlib import pyplot as plt\n",
    "import matplotlib.cm as cm\n",
    "from mpl_toolkits.mplot3d import Axes3D\n",
    "from mpl_toolkits import mplot3d\n",
    "#from mpl_toolkits.basemap import Basemap\n",
    "#from scipy.stats import multivariate_normal\n",
    "from sklearn.model_selection import train_test_split\n",
    "#from sklearn.preprocessing import StandardScaler\n",
    "#from sklearn.neural_network import MLPRegressor\n",
    "#from sklearn.gaussian_process import GaussianProcessRegressor\n",
    "#from sklearn.gaussian_process.kernels import WhiteKernel,RBF, ConstantKernel as C\n",
    "import gmaps\n",
    "#import gmplot\n",
    "#import gpytorch\n",
    "#import torch\n",
    "import math\n",
    "from colormap import rgb2hex\n",
    "\n",
    "num_lines = 0\n",
    "num_read=0\n",
    "num_lines_old = 0\n",
    "i=0"
   ]
  },
  {
   "cell_type": "code",
   "execution_count": 2,
   "metadata": {},
   "outputs": [
    {
     "name": "stdout",
     "output_type": "stream",
     "text": [
      "[37.23222753 37.23222413 37.23222332 ... 37.23168707 37.23168793\n",
      " 37.2316888 ]\n",
      "[-80.42214905 -80.42214903 -80.4221499  ... -80.42463073 -80.42463185\n",
      " -80.424633  ]\n",
      "12098\n"
     ]
    }
   ],
   "source": [
    "X=[]\n",
    "f = open(\"system_load2019-07-26-17-11-29-loam-syst-vel.txt\", \"r\")\n",
    "for y in f:\n",
    "    x=y.split(',')\n",
    "#\tprint(x)\n",
    "    num_lines += 1\n",
    "#\tprint num_lines\n",
    "#\tpos=np.array(pos)\n",
    "#\tutil=np.array(util)\n",
    "    if (x[1]!=nan):\n",
    "\t    X.append([(x[1]),(x[2]),(x[3]),(x[4]),(x[5]),(x[6])])\n",
    "#        if num_lines == 250:\t   \n",
    "#\t    \tbreak\n",
    "X=np.array(X).astype(np.double)\n",
    "X=X[~np.isnan(X[:,0])]\n",
    "print(X[:,0])\n",
    "print(X[:,1])\n",
    "print(len(X[:,1]))"
   ]
  },
  {
   "cell_type": "code",
   "execution_count": 3,
   "metadata": {},
   "outputs": [
    {
     "name": "stdout",
     "output_type": "stream",
     "text": [
      "weights [0. 0. 0. ... 0. 0. 0.]\n",
      "[37.23222753 37.23222285 37.23222042 ... 37.23158288 37.23159308\n",
      " 37.23160542]\n",
      "3793\n"
     ]
    }
   ],
   "source": [
    "########normalise data\n",
    "#lats= np.array(X[:,0])\n",
    "#lons= np.array(X[:,1])\n",
    "altitude= np.array(X[:,3])\n",
    "lats= np.array([],dtype=int)\n",
    "lons= np.array([],dtype=int)\n",
    "weights= np.array([],dtype=int)\n",
    "lat_data=X[0,0]\n",
    "lon_data=X[0,1]\n",
    "util_data=X[0,3]\n",
    "j=0\n",
    "k=1\n",
    "while (j < len(altitude)-1):\n",
    "    while ((abs(X[j,0]- X[j+k,0])<0.000001) and (abs(X[j,1]- X[j+k,1])<0.000001)):\n",
    "        lat_data=(lat_data+ X[j+k,0])/2\n",
    "        lon_data=(lon_data+ X[j+k,1])/2\n",
    "        util_data=(util_data+ X[j+k,3])/2\n",
    "        #print(\"lat_data\",lat_data)\n",
    "        k=k+1\n",
    "    else:\n",
    "        lats=np.append(lats,lat_data)\n",
    "        lons=np.append(lons,lon_data)\n",
    "        weights=np.append(weights,util_data)\n",
    "        lat_data=X[j+k+1,0]\n",
    "        lon_data=X[j+k+1,1]\n",
    "        util_data=X[j+k+1,3]\n",
    "        j=j+k+1\n",
    "        k=2\n",
    "    if j==len(altitude)-30:\n",
    "        break\n",
    "print(\"weights\",weights)  \n",
    "print(lats)\n",
    "print(len(lons))\n",
    "#for i in range(len(altitude)):\n",
    "\t#color=rgb2hex(int(altitude[i]*50),64,0)\n",
    "\t#print(color)"
   ]
  },
  {
   "cell_type": "code",
   "execution_count": 72,
   "metadata": {},
   "outputs": [
    {
     "name": "stdout",
     "output_type": "stream",
     "text": [
      "locations [[ 37.23222753 -80.42214905]\n",
      " [ 37.23222285 -80.42215006]\n",
      " [ 37.23222042 -80.42215058]\n",
      " ...\n",
      " [ 37.23158288 -80.4242621 ]\n",
      " [ 37.23159308 -80.42429695]\n",
      " [ 37.23160542 -80.42434255]]\n",
      "3793\n"
     ]
    },
    {
     "data": {
      "application/vnd.jupyter.widget-view+json": {
       "model_id": "c231b444c845496a92248d662bdf897a",
       "version_major": 2,
       "version_minor": 0
      },
      "text/plain": [
       "Figure(layout=FigureLayout(height='420px'))"
      ]
     },
     "metadata": {},
     "output_type": "display_data"
    }
   ],
   "source": [
    "# Use google maps api\n",
    "gmaps.configure(api_key='#') # Fill in with your API key\n",
    "#Get the locations from the data set\n",
    "#locations = X[:,0:2]\n",
    "locations=np.transpose([lats,lons])\n",
    "print(\"locations\",locations)\n",
    "print(len(locations[:,0]))\n",
    "#weights = X[:,3]\n",
    "fig = gmaps.figure()\n",
    "fig.add_layer(gmaps.heatmap_layer(locations, weights=weights*100,max_intensity=20, point_radius=10.0, dissipating=True))\n",
    "fig"
   ]
  },
  {
   "cell_type": "code",
   "execution_count": null,
   "metadata": {},
   "outputs": [],
   "source": []
  }
 ],
 "metadata": {
  "kernelspec": {
   "display_name": "Python 3",
   "language": "python",
   "name": "python3"
  },
  "language_info": {
   "codemirror_mode": {
    "name": "ipython",
    "version": 3
   },
   "file_extension": ".py",
   "mimetype": "text/x-python",
   "name": "python",
   "nbconvert_exporter": "python",
   "pygments_lexer": "ipython3",
   "version": "3.6.8"
  }
 },
 "nbformat": 4,
 "nbformat_minor": 2
}
